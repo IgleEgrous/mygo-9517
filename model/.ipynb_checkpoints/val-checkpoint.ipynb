{
 "cells": [
  {
   "cell_type": "code",
   "execution_count": 16,
   "id": "5aeb39ef-a338-4c5e-99c7-435a0aac31d0",
   "metadata": {},
   "outputs": [],
   "source": [
    "import os\n",
    "import torch\n",
    "import torch.nn as nn\n",
    "from torchvision import datasets, transforms, models\n",
    "from sklearn.metrics import (\n",
    "    accuracy_score,\n",
    "    precision_score,\n",
    "    recall_score,\n",
    "    f1_score,\n",
    "    roc_auc_score,\n",
    "    confusion_matrix\n",
    ")"
   ]
  },
  {
   "cell_type": "code",
   "execution_count": 17,
   "id": "50b7d546-cbac-4cf2-a8f4-87d8e9c8dac0",
   "metadata": {},
   "outputs": [],
   "source": [
    "def validate_model(model_path,val_path):\n",
    "    # Hardware configuration\n",
    "    device = torch.device(\"cuda\" if torch.cuda.is_available() else \"cpu\")\n",
    "    print(f\"Using device: {device}\")\n",
    "\n",
    "    # Validation data configuration\n",
    "    val_dir = val_path\n",
    "    if not os.path.exists(val_dir):\n",
    "        raise FileNotFoundError(f\"Validation directory not found: {val_dir}\")\n",
    "\n",
    "    # Validation transforms\n",
    "    val_transform = transforms.Compose([\n",
    "        transforms.Resize((224, 224)),\n",
    "        transforms.ToTensor(),\n",
    "        transforms.Normalize(mean=[0.485, 0.456, 0.406],\n",
    "                             std=[0.229, 0.224, 0.225])\n",
    "    ])\n",
    "\n",
    "    # Create dataset and loader\n",
    "    val_dataset = datasets.ImageFolder(val_dir, transform=val_transform)\n",
    "    val_loader = torch.utils.data.DataLoader(\n",
    "        val_dataset,\n",
    "        batch_size=32,\n",
    "        shuffle=False,\n",
    "        num_workers=4,\n",
    "        pin_memory=True\n",
    "    )\n",
    "\n",
    "    # Model initialization\n",
    "    model = models.vgg16(weights=models.VGG16_Weights.IMAGENET1K_V1)\n",
    "    \n",
    "    # Freeze feature parameters\n",
    "    for param in model.features.parameters():\n",
    "        param.requires_grad = False\n",
    "    \n",
    "    # Modify classifier\n",
    "    num_classes = len(val_dataset.classes)\n",
    "    model.classifier[6] = nn.Linear(model.classifier[6].in_features, num_classes)\n",
    "    \n",
    "    # Load trained weights\n",
    "    model_path = model_path\n",
    "    model.load_state_dict(torch.load(model_path, map_location=device))\n",
    "    model = model.to(device)\n",
    "    model.eval()\n",
    "\n",
    "    # Initialize metrics\n",
    "    all_preds = []\n",
    "    all_labels = []\n",
    "    all_probs = []\n",
    "    running_corrects = 0\n",
    "\n",
    "    # Validation loop\n",
    "    with torch.no_grad():\n",
    "        for inputs, labels in val_loader:\n",
    "            inputs = inputs.to(device)\n",
    "            labels = labels.to(device)\n",
    "            \n",
    "            outputs = model(inputs)\n",
    "            probs = torch.softmax(outputs, dim=1)  # Get class probabilities\n",
    "            \n",
    "            _, preds = torch.max(outputs, 1)\n",
    "            \n",
    "            running_corrects += torch.sum(preds == labels.data)\n",
    "            all_preds.extend(preds.cpu().numpy())\n",
    "            all_labels.extend(labels.cpu().numpy())\n",
    "            all_probs.extend(probs.cpu().numpy())\n",
    "\n",
    "    # Calculate metrics\n",
    "    val_acc = running_corrects.double() / len(val_dataset)\n",
    "    sk_acc = accuracy_score(all_labels, all_preds)\n",
    "    val_precision = precision_score(all_labels, all_preds, average='macro')\n",
    "    val_recall = recall_score(all_labels, all_preds, average='macro')\n",
    "    val_f1 = f1_score(all_labels, all_preds, average='macro')\n",
    "    val_roc_auc = roc_auc_score(all_labels, all_probs, multi_class='ovr', average='macro')\n",
    "    cm = confusion_matrix(all_labels, all_preds)\n",
    "\n",
    "    # Print comprehensive results\n",
    "    print(f\"\\nValidation Metrics:\")\n",
    "    print(f\"Manual Accuracy: {val_acc:.4f}\")\n",
    "    print(f\"Sklearn Accuracy: {sk_acc:.4f}\")\n",
    "    print(f\"Precision: {val_precision:.4f}\")\n",
    "    print(f\"Recall: {val_recall:.4f}\")\n",
    "    print(f\"F1-Score: {val_f1:.4f}\")\n",
    "    print(f\"ROC-AUC: {val_roc_auc:.4f}\")\n",
    "    print(\"\\nConfusion Matrix:\")\n",
    "    print(cm)"
   ]
  },
  {
   "cell_type": "code",
   "execution_count": 18,
   "id": "9abc5b07-c4dd-4196-9194-40bd330310f5",
   "metadata": {},
   "outputs": [
    {
     "name": "stdout",
     "output_type": "stream",
     "text": [
      "Using device: cuda\n",
      "\n",
      "Validation Metrics:\n",
      "Manual Accuracy: 0.5804\n",
      "Sklearn Accuracy: 0.5804\n",
      "Precision: 0.6119\n",
      "Recall: 0.5804\n",
      "F1-Score: 0.5517\n",
      "ROC-AUC: 0.9442\n",
      "\n",
      "Confusion Matrix:\n",
      "[[ 21  24   8   3   0   6   3   3  12  12   0   4   1  22  41]\n",
      " [  1  83  13  15   5   1   0   2   3   5   0   9   7  13   3]\n",
      " [  0  10 129   1   2   0   0   0   3   0   0  11   1   0   3]\n",
      " [  0   2   0 103   0   0   0   0   1   0   3  35   1  15   0]\n",
      " [  0   7   4   0 135   0   0   1   1  10   0   1   0   1   0]\n",
      " [  0   0   0   0   0 154   1   0   0   1   0   0   2   1   1]\n",
      " [  0   0   1   0   0  30 110   0   4   3   0   0   0   1  11]\n",
      " [  0  20   1  19   0  14   0  22   1   7   3  13   8  47   5]\n",
      " [  0   4   6   1   0   8   4   1 117   1   0   6   0   2  10]\n",
      " [  1  17   3   4   8  44   6   4   5  32   2   7   1  17   9]\n",
      " [  0  12   0   7   0   0   0   1   1   4 111  18   3   3   0]\n",
      " [  0   1   3   5   0   1   0   0   2   0   4 139   0   5   0]\n",
      " [  0  31   2  38   0   2   0   7   0   4   9  10  47   7   3]\n",
      " [  0   2   1  13   0   2   0   0   0   0   1   8   0 133   0]\n",
      " [  1   5   8   3   1  18   2   2  25  13   0  12   1  12  57]]\n"
     ]
    }
   ],
   "source": [
    "# VGG16_balanced_noPretrained\n",
    "if __name__ == \"__main__\":\n",
    "    validate_model('../model/9517/vgg16_noPretrainModel_Aerial_Landscapeswss_balanced.pth', './archive/balanced/test')"
   ]
  },
  {
   "cell_type": "code",
   "execution_count": 19,
   "id": "57ba77c0-4823-485a-ad16-f61816c1158b",
   "metadata": {},
   "outputs": [
    {
     "name": "stdout",
     "output_type": "stream",
     "text": [
      "Using device: cuda\n",
      "\n",
      "Validation Metrics:\n",
      "Manual Accuracy: 0.5916\n",
      "Sklearn Accuracy: 0.5916\n",
      "Precision: 0.4856\n",
      "Recall: 0.4883\n",
      "F1-Score: 0.4648\n",
      "ROC-AUC: 0.9278\n",
      "\n",
      "Confusion Matrix:\n",
      "[[ 72  16  10   9   1   3   2   9  27   3   2   4   0   2   0]\n",
      " [  5  59  10  34   5   0   0  11   2   0  12   6   6   0   0]\n",
      " [  5   4 105   4   0   0   0   0  15   0   0   5   1   0   0]\n",
      " [  0   1   0 118   0   1   0   0   1   0   2   6   0   0   0]\n",
      " [  0   7   3   2  98   0   0   0   0   4   4   0   0   0   0]\n",
      " [  1   0   0   9   0  90   1   0   5   1   0   0   0   0   0]\n",
      " [  5   0   0   0   0   6  83   0   3   0   0   0   0   0   0]\n",
      " [  3   4   1  31   0   6   1  20   3   2  10   4   0   1   0]\n",
      " [  5   1   3   1   1   0   3   0  58   0   1   3   0   0   0]\n",
      " [  4  10   2   9   3   5   4  10   8   5   1   1   0   3   0]\n",
      " [  0   2   0  13   0   0   0   0   2   0  35   2   0   0   0]\n",
      " [  0   0   0  20   0   0   0   0   2   0   3  19   0   0   0]\n",
      " [  0   6   1  22   0   0   0   1   0   0   3   0   0   0   0]\n",
      " [  0   0   0   9   0   1   0   0   0   0   8   2   0   3   0]\n",
      " [  5   0   1   1   0   0   0   0   3   1   0   1   0   0   0]]\n"
     ]
    },
    {
     "name": "stderr",
     "output_type": "stream",
     "text": [
      "D:\\Environment\\Anaconda\\envs\\UNSW\\Lib\\site-packages\\sklearn\\metrics\\_classification.py:1565: UndefinedMetricWarning: Precision is ill-defined and being set to 0.0 in labels with no predicted samples. Use `zero_division` parameter to control this behavior.\n",
      "  _warn_prf(average, modifier, f\"{metric.capitalize()} is\", len(result))\n"
     ]
    }
   ],
   "source": [
    "# VGG16_imbalanced_noPretrained\n",
    "if __name__ == \"__main__\":\n",
    "    validate_model('../model/9517/vgg16_noPretrainModel_Aerial_Landscapeswss_imbalanced.pth', './archive/imbalanced/test')"
   ]
  },
  {
   "cell_type": "code",
   "execution_count": 20,
   "id": "38490e4d-322c-4888-966c-34a960d2fe6a",
   "metadata": {},
   "outputs": [
    {
     "name": "stdout",
     "output_type": "stream",
     "text": [
      "Using device: cuda\n",
      "\n",
      "Validation Metrics:\n",
      "Manual Accuracy: 0.9163\n",
      "Sklearn Accuracy: 0.9163\n",
      "Precision: 0.9204\n",
      "Recall: 0.9163\n",
      "F1-Score: 0.9164\n",
      "ROC-AUC: 0.9968\n",
      "\n",
      "Confusion Matrix:\n",
      "[[146   8   0   0   0   0   0   3   0   1   0   0   0   1   1]\n",
      " [  0 149   0   4   0   0   0   1   0   0   1   0   5   0   0]\n",
      " [  1   1 150   0   0   0   0   1   1   0   1   4   0   0   1]\n",
      " [  0   6   0 142   0   0   0   1   0   0   2   1   6   2   0]\n",
      " [  0   0   5   0 148   0   0   0   0   7   0   0   0   0   0]\n",
      " [  0   0   0   0   0 153   4   1   0   1   0   0   0   1   0]\n",
      " [  0   2   0   0   0   1 151   1   2   0   1   0   0   0   2]\n",
      " [  0   3   0   0   0   3   0 145   0   0   4   0   2   2   1]\n",
      " [  0   3   1   0   0   2   0   1 150   1   0   1   0   0   1]\n",
      " [  0   0   0   0   4   3   0   0   1 150   0   0   0   0   2]\n",
      " [  0   0   0   0   0   0   0   0   0   0 159   0   1   0   0]\n",
      " [  0   1   1   0   0   0   0   0   0   0   5 153   0   0   0]\n",
      " [  1  11   0   4   0   0   0   5   0   0   2   0 137   0   0]\n",
      " [  0   4   0   3   0   0   0   0   1   0   5   0   0 147   0]\n",
      " [  2  13   3   1   0   3   0   2   9   4   0   3   0   1 119]]\n"
     ]
    }
   ],
   "source": [
    "# VGG16_balanced\n",
    "if __name__ == \"__main__\":\n",
    "    validate_model('../model/9517/vgg16_model_Aerial_Landscapeswss_balanced.pth', './archive/balanced/test')"
   ]
  },
  {
   "cell_type": "code",
   "execution_count": 21,
   "id": "f30c073f-3c16-4cb8-b81e-79de766b67c7",
   "metadata": {},
   "outputs": [
    {
     "name": "stdout",
     "output_type": "stream",
     "text": [
      "Using device: cuda\n",
      "\n",
      "Validation Metrics:\n",
      "Manual Accuracy: 0.9374\n",
      "Sklearn Accuracy: 0.9374\n",
      "Precision: 0.9237\n",
      "Recall: 0.8976\n",
      "F1-Score: 0.9060\n",
      "ROC-AUC: 0.9980\n",
      "\n",
      "Confusion Matrix:\n",
      "[[154   2   0   1   0   0   1   0   1   1   0   0   0   0   0]\n",
      " [  0 141   0   4   1   0   0   0   0   0   0   2   1   1   0]\n",
      " [  0   1 135   0   0   0   0   1   1   0   0   1   0   0   0]\n",
      " [  0   1   0 128   0   0   0   0   0   0   0   0   0   0   0]\n",
      " [  1   0   4   0 111   0   0   0   0   2   0   0   0   0   0]\n",
      " [  0   0   0   0   0 106   0   0   0   1   0   0   0   0   0]\n",
      " [  0   0   0   0   0   5  92   0   0   0   0   0   0   0   0]\n",
      " [  1   2   0   0   0   0   4  69   1   0   3   1   3   1   1]\n",
      " [  0   0   0   0   0   0   0   0  75   1   0   0   0   0   0]\n",
      " [  1   0   2   0   3   0   1   0   1  57   0   0   0   0   0]\n",
      " [  0   0   0   2   0   0   0   0   0   0  51   1   0   0   0]\n",
      " [  0   0   0   0   0   0   0   0   0   0   2  42   0   0   0]\n",
      " [  0   5   0   5   0   0   0   0   0   0   0   0  23   0   0]\n",
      " [  0   0   0   1   0   0   0   0   0   0   0   0   0  22   0]\n",
      " [  0   1   1   0   0   0   0   0   3   1   0   0   0   0   6]]\n"
     ]
    }
   ],
   "source": [
    "# VGG16_imbalanced_pretrained\n",
    "if __name__ == \"__main__\":\n",
    "    validate_model('../model/9517/vgg16_model_Aerial_Landscapeswss_imbalanced.pth', './archive/imbalanced/test')"
   ]
  },
  {
   "cell_type": "code",
   "execution_count": 22,
   "id": "81422f18-2a96-4f7b-b72e-da62ec71e2ed",
   "metadata": {},
   "outputs": [
    {
     "name": "stdout",
     "output_type": "stream",
     "text": [
      "Using device: cuda\n",
      "\n",
      "Validation Metrics:\n",
      "Manual Accuracy: 0.9551\n",
      "Sklearn Accuracy: 0.9551\n",
      "Precision: 0.9352\n",
      "Recall: 0.9457\n",
      "F1-Score: 0.9393\n",
      "ROC-AUC: 0.9990\n",
      "\n",
      "Confusion Matrix:\n",
      "[[156   1   0   0   0   0   0   2   0   1   0   0   0   0   0]\n",
      " [  1 138   0   1   1   0   0   3   0   0   0   1   4   1   0]\n",
      " [  0   0 137   0   0   0   0   1   0   0   0   1   0   0   0]\n",
      " [  0   2   0 127   0   0   0   0   0   0   0   0   0   0   0]\n",
      " [  0   0   2   0 115   0   0   0   0   1   0   0   0   0   0]\n",
      " [  0   0   0   0   0 100   3   1   1   1   0   0   0   0   1]\n",
      " [  0   0   0   0   0   0  96   1   0   0   0   0   0   0   0]\n",
      " [  0   0   0   0   0   0   0  81   1   0   2   0   1   0   1]\n",
      " [  2   0   0   0   0   0   0   1  73   0   0   0   0   0   0]\n",
      " [  1   0   1   0   3   0   1   0   0  57   0   0   0   0   2]\n",
      " [  0   0   0   2   0   0   0   1   0   0  50   1   0   0   0]\n",
      " [  0   0   0   0   0   0   0   0   0   0   1  43   0   0   0]\n",
      " [  0   1   0   1   0   0   0   1   0   0   0   0  30   0   0]\n",
      " [  0   1   0   1   0   0   0   0   0   0   0   0   0  21   0]\n",
      " [  1   0   0   0   0   0   0   0   0   0   0   0   0   0  11]]\n"
     ]
    }
   ],
   "source": [
    "if __name__ == \"__main__\":\n",
    "    validate_model('../model/9517/vgg16_model_Aerial_Landscapeswss_augmentation.pth', './archive/imbalanced/test')"
   ]
  },
  {
   "cell_type": "code",
   "execution_count": null,
   "id": "333a0405-866d-430e-99e3-18b6c7e72037",
   "metadata": {},
   "outputs": [],
   "source": []
  }
 ],
 "metadata": {
  "kernelspec": {
   "display_name": "Python 3 (ipykernel)",
   "language": "python",
   "name": "python3"
  },
  "language_info": {
   "codemirror_mode": {
    "name": "ipython",
    "version": 3
   },
   "file_extension": ".py",
   "mimetype": "text/x-python",
   "name": "python",
   "nbconvert_exporter": "python",
   "pygments_lexer": "ipython3",
   "version": "3.11.11"
  }
 },
 "nbformat": 4,
 "nbformat_minor": 5
}
